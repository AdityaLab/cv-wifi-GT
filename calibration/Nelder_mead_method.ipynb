{
 "cells": [
  {
   "cell_type": "code",
   "execution_count": 1,
   "metadata": {},
   "outputs": [],
   "source": [
    "import pickle \n",
    "import numpy as np\n",
    "import pandas as pd\n",
    "\n",
    "\n",
    "from scipy.optimize import minimize\n",
    "\n",
    "from nelder_mead import objective\n"
   ]
  },
  {
   "cell_type": "code",
   "execution_count": null,
   "metadata": {
    "scrolled": true
   },
   "outputs": [
    {
     "name": "stdout",
     "output_type": "stream",
     "text": [
      "File already exists\n",
      "/cv19wifi/tmp/network_modeling/simulation_output/calibration_output/berkeley_all_2020-08-17_p:0.038779_I_asym:0.004799_alpha:0.029957_simu.pkl already exists\n",
      "File already exists\n",
      "/cv19wifi/tmp/network_modeling/simulation_output/calibration_output/berkeley_all_2020-08-17_p:0.04071795_I_asym:0.004799_alpha:0.029957_simu.pkl already exists\n",
      "File already exists\n",
      "Iter: 1\n",
      "Iter: 5\n",
      "Iter: 9\n",
      "Iter: 13\n",
      "Category: berkeley_all\n",
      "Category: berkeley_all\n",
      "Category: berkeley_all\n",
      "/cv19wifi/tmp/network_modeling/simulation_output/usr_sets/set_118_2020-08-17_all.p\n",
      "/cv19wifi/tmp/network_modeling/simulation_output/usr_sets/set_118_2020-08-17_all.p\n",
      "/cv19wifi/tmp/network_modeling/simulation_output/usr_sets/set_118_2020-08-17_all.p\n",
      "Category: berkeley_all\n",
      "/cv19wifi/tmp/network_modeling/simulation_output/usr_sets/set_118_2020-08-17_all.p\n",
      "Population size: 22401\n",
      "Population size: 22401\n",
      "Population size: 22401\n",
      "Population size: 22401\n",
      "Running step 0\n",
      "Running step 0\n",
      "/cv19wifi/tmp/network_modeling/coloc_proj/all_locs/coloc_graph_2020-08-17.p\n",
      "/cv19wifi/tmp/network_modeling/coloc_proj/all_locs/coloc_graph_2020-08-17.p\n",
      "Running step 0\n",
      "/cv19wifi/tmp/network_modeling/coloc_proj/all_locs/coloc_graph_2020-08-17.p\n",
      "Running step 0\n",
      "/cv19wifi/tmp/network_modeling/coloc_proj/all_locs/coloc_graph_2020-08-17.p\n",
      "Running step 1\n",
      "/cv19wifi/tmp/network_modeling/coloc_proj/all_locs/coloc_graph_2020-08-18.p\n",
      "Running step 1\n",
      "/cv19wifi/tmp/network_modeling/coloc_proj/all_locs/coloc_graph_2020-08-18.p\n",
      "Running step 1\n",
      "/cv19wifi/tmp/network_modeling/coloc_proj/all_locs/coloc_graph_2020-08-18.p\n",
      "Running step 1\n",
      "/cv19wifi/tmp/network_modeling/coloc_proj/all_locs/coloc_graph_2020-08-18.p\n",
      "Running step 2\n",
      "/cv19wifi/tmp/network_modeling/coloc_proj/all_locs/coloc_graph_2020-08-19.p\n",
      "Running step 2\n",
      "/cv19wifi/tmp/network_modeling/coloc_proj/all_locs/coloc_graph_2020-08-19.p\n",
      "Running step 2\n",
      "/cv19wifi/tmp/network_modeling/coloc_proj/all_locs/coloc_graph_2020-08-19.p\n",
      "Running step 2\n",
      "/cv19wifi/tmp/network_modeling/coloc_proj/all_locs/coloc_graph_2020-08-19.p\n",
      "Running step 3\n",
      "/cv19wifi/tmp/network_modeling/coloc_proj/all_locs/coloc_graph_2020-08-20.p\n",
      "Running step 3\n",
      "/cv19wifi/tmp/network_modeling/coloc_proj/all_locs/coloc_graph_2020-08-20.p\n",
      "Running step 3\n",
      "/cv19wifi/tmp/network_modeling/coloc_proj/all_locs/coloc_graph_2020-08-20.p\n",
      "Running step 3\n",
      "/cv19wifi/tmp/network_modeling/coloc_proj/all_locs/coloc_graph_2020-08-20.p\n",
      "Running step 4\n",
      "/cv19wifi/tmp/network_modeling/coloc_proj/all_locs/coloc_graph_2020-08-21.p\n",
      "Running step 4\n",
      "/cv19wifi/tmp/network_modeling/coloc_proj/all_locs/coloc_graph_2020-08-21.p\n",
      "Running step 4\n",
      "/cv19wifi/tmp/network_modeling/coloc_proj/all_locs/coloc_graph_2020-08-21.p\n",
      "Running step 4\n",
      "/cv19wifi/tmp/network_modeling/coloc_proj/all_locs/coloc_graph_2020-08-21.p\n",
      "Running step 5\n",
      "/cv19wifi/tmp/network_modeling/coloc_proj/all_locs/coloc_graph_2020-08-22.p\n",
      "Running step 5\n",
      "/cv19wifi/tmp/network_modeling/coloc_proj/all_locs/coloc_graph_2020-08-22.p\n",
      "Running step 5\n",
      "/cv19wifi/tmp/network_modeling/coloc_proj/all_locs/coloc_graph_2020-08-22.p\n",
      "Running step 5\n",
      "/cv19wifi/tmp/network_modeling/coloc_proj/all_locs/coloc_graph_2020-08-22.p\n",
      "Running step 6\n",
      "/cv19wifi/tmp/network_modeling/coloc_proj/all_locs/coloc_graph_2020-08-23.p\n",
      "Running step 6\n",
      "/cv19wifi/tmp/network_modeling/coloc_proj/all_locs/coloc_graph_2020-08-23.p\n",
      "Running step 6\n",
      "/cv19wifi/tmp/network_modeling/coloc_proj/all_locs/coloc_graph_2020-08-23.p\n",
      "Running step 6\n",
      "/cv19wifi/tmp/network_modeling/coloc_proj/all_locs/coloc_graph_2020-08-23.p\n"
     ]
    }
   ],
   "source": [
    "\n",
    "params =0.038779  , 0.004799 , 0.029957\n",
    "\n",
    "history = []\n",
    "\n",
    "valid_solution  = []\n",
    "params = np.array(params)\n",
    "\n",
    "def callback(x):\n",
    "    fobj = objective(x)\n",
    "    \n",
    "    history.append(fobj)\n",
    "    \n",
    "    \n",
    "    if fobj < 0.00434:\n",
    "        valid_solution.append(x)\n",
    "    \n",
    "    print(\"---------------------------------------\")\n",
    "    print(\"Current p, I0 and alpha\")\n",
    "    print('{0:4f}  {1: 3.6f} {2: 3.6f}'.format( x[0], x[1], x[2]))\n",
    "    #print('{0:3.6f}'.format( x[0]))\n",
    "    print('Current objective')\n",
    "    print(fobj)\n",
    "    print(\"---------------------------------------\")\n",
    "    \n",
    "    \n",
    "    \n",
    "res = minimize(objective, params, method='nelder-mead',\n",
    "               options={'xatol': 1e-8, 'disp': True}, callback=callback)"
   ]
  },
  {
   "cell_type": "code",
   "execution_count": 2,
   "metadata": {},
   "outputs": [
    {
     "ename": "NameError",
     "evalue": "name 'res' is not defined",
     "output_type": "error",
     "traceback": [
      "\u001b[0;31m---------------------------------------------------------------------------\u001b[0m",
      "\u001b[0;31mNameError\u001b[0m                                 Traceback (most recent call last)",
      "\u001b[0;32m<ipython-input-2-1ba72f345d10>\u001b[0m in \u001b[0;36m<module>\u001b[0;34m\u001b[0m\n\u001b[0;32m----> 1\u001b[0;31m \u001b[0mres\u001b[0m\u001b[0;34m.\u001b[0m\u001b[0mx\u001b[0m\u001b[0;34m\u001b[0m\u001b[0m\n\u001b[0m",
      "\u001b[0;31mNameError\u001b[0m: name 'res' is not defined"
     ]
    }
   ],
   "source": [
    "res.x"
   ]
  },
  {
   "cell_type": "code",
   "execution_count": 4,
   "metadata": {
    "scrolled": false
   },
   "outputs": [
    {
     "data": {
      "text/plain": [
       "array([[0.02697687, 0.01303429, 0.0385675 ],\n",
       "       [0.02802451, 0.01277361, 0.03221521],\n",
       "       [0.02884662, 0.01220879, 0.03216479],\n",
       "       [0.02909548, 0.01203301, 0.03186408],\n",
       "       [0.02913658, 0.01203492, 0.0317917 ],\n",
       "       [0.02917767, 0.01203684, 0.03171932],\n",
       "       [0.0293013 , 0.01191042, 0.03175983],\n",
       "       [0.0293013 , 0.01191042, 0.03175983],\n",
       "       [0.02930137, 0.01191085, 0.03175731],\n",
       "       [0.02946503, 0.01251292, 0.03266894],\n",
       "       [0.02966873, 0.01164397, 0.03211438]])"
      ]
     },
     "execution_count": 4,
     "metadata": {},
     "output_type": "execute_result"
    }
   ],
   "source": [
    "slns = np.unique(valid_solution, axis=0)\n",
    "slns"
   ]
  },
  {
   "cell_type": "code",
   "execution_count": null,
   "metadata": {},
   "outputs": [],
   "source": [
    "array([[0.02940123, 0.01138308, 0.02935103],\n",
    "       [0.02958333, 0.01130556, 0.02947778],\n",
    "       [0.03      , 0.011     , 0.0294    ]])\n",
    "\n",
    "array([[0.02385223, 0.00952549, 0.02614507]])\n",
    "\n",
    "\n",
    "array([[0.04478056, 0.01204282, 0.03185417],\n",
    "       [0.04522626, 0.01195731, 0.03151456],\n",
    "       [0.0455    , 0.01166667, 0.03135   ]])\n",
    "\n",
    "array([[0.03    , 0.011957, 0.031515]])\n",
    "\n",
    "array([[0.02357202, 0.01064115, 0.03483618],\n",
    "       [0.02769547, 0.01023282, 0.03054143],\n",
    "       [0.02833333, 0.01003704, 0.02856591]])\n",
    "\n",
    "array([[0.02697687, 0.01303429, 0.0385675 ],\n",
    "       [0.02802451, 0.01277361, 0.03221521],\n",
    "       [0.02966873, 0.01164397, 0.03211438]])\n",
    "\n",
    "\n",
    "###\n",
    "[0.037398 ,  0.010652 , 0.036342]\n",
    "[0.032604 ,  0.012396 , 0.030682]\n",
    "[0.034905 ,  0.011540 , 0.034525]\n",
    "[0.030611 ,  0.013039  , 0.031093]\n",
    "[0.034905  , 0.011540 , 0.040000]\n",
    "[0.033742  , 0.011732 , 0.036000]\n",
    "[0.042000  , 0.012117 , 0.036000]\n",
    "[0.041481  , 0.012651 , 0.032593]\n",
    "[0.043920  , 0.012874 , 0.028176]\n",
    "[0.044938  , 0.012300 , 0.032412]\n",
    "[0.042518  , 0.012335 , 0.033408]"
   ]
  },
  {
   "cell_type": "code",
   "execution_count": 3,
   "metadata": {},
   "outputs": [],
   "source": [
    "\n",
    "\n",
    "##GT weeks 0- 4\n",
    "A = np.array([[0.02940123, 0.01138308, 0.02935103],\n",
    "       [0.02958333, 0.01130556, 0.02947778],\n",
    "       [0.03      , 0.011     , 0.0294    ],\n",
    "        [0.02385223, 0.00952549, 0.02614507],\n",
    "        [0.04478056, 0.01204282, 0.03185417],\n",
    "       [0.04522626, 0.01195731, 0.03151456],\n",
    "       [0.0455    , 0.01166667, 0.03135   ],\n",
    "         [0.03    , 0.011957, 0.031515],\n",
    "        [0.02357202, 0.01064115, 0.03483618],\n",
    "       [0.02769547, 0.01023282, 0.03054143],\n",
    "       [0.02833333, 0.01003704, 0.02856591],\n",
    "        [0.02697687, 0.01303429, 0.0385675 ],\n",
    "       [0.02802451, 0.01277361, 0.03221521],\n",
    "       [0.02966873, 0.01164397, 0.03211438] ,\n",
    "       [0.037398 ,  0.010652 , 0.036342],\n",
    "[0.032604 ,  0.012396 , 0.030682],\n",
    "[0.034905 ,  0.011540 , 0.034525],\n",
    "[0.030611 ,  0.013039  , 0.031093],\n",
    "[0.034905  , 0.011540 , 0.040000],\n",
    "[0.033742  , 0.011732 , 0.036000],\n",
    "[0.042000  , 0.012117 , 0.036000],\n",
    "[0.041481  , 0.012651 , 0.032593],\n",
    "[0.043920  , 0.012874 , 0.028176],\n",
    "[0.044938  , 0.012300 , 0.032412],\n",
    "[0.042518  , 0.012335 , 0.033408]     ])\n",
    "\n",
    "\n",
    "##GT weeks 5-9\n",
    "\n",
    "0.071300   0.000620  0.003705\n",
    "\n",
    "0.067083   0.000633  0.003770\n",
    "\n",
    "0.074073   0.000644  0.003540\n",
    "\n",
    "0.078608   0.000500  0.004500\n",
    "\n",
    "0.076737   0.000512  0.004500\n",
    "\n",
    "0.076780   0.000513  0.004528  \n",
    "\n",
    "0.079189   0.000470  0.005274\n",
    "\n",
    "0.079301   0.000468  0.005272\n",
    "\n",
    "0.067968   0.000636  0.003778\n",
    "\n",
    "0.068411   0.000638  0.003782\n",
    "\n",
    "0.068853   0.000639  0.003786\n",
    "\n",
    "## GT weeks 10-14\n",
    "\n",
    "\n",
    "0.002157   0.002799  0.013248\n",
    "\n",
    "0.001977   0.002078  0.016362\n",
    "\n",
    "0.002025   0.002311  0.015877\n",
    "\n",
    "0.002341   0.003231  0.013171\n",
    "\n",
    "0.002493   0.002802  0.014905\n",
    "\n",
    "0.002778   0.002205  0.016838\n",
    "\n",
    "0.002473   0.003654  0.019977\n",
    "\n",
    "0.002713   0.003811  0.015314\n",
    "\n",
    "0.002626   0.003839  0.016091\n",
    "\n",
    "0.002611   0.003880  0.016251\n",
    "\n",
    "0.001989   0.002143  0.016464\n",
    "\n",
    "\n",
    "##UIUC\n",
    "\n",
    "0.025276   0.005815  0.004961\n",
    "\n",
    "0.024390   0.004653  0.006181\n",
    "\n",
    "0.025209   0.003269  0.007596\n",
    "\n",
    "0.024578   0.002721  0.008021\n",
    "\n",
    "0.023331   0.003118  0.007671\n",
    "\n",
    "0.023279   0.003087  0.007723\n",
    "\n",
    "0.026042   0.005793  0.005016\n",
    "\n",
    "0.025975   0.005828  0.005009\n",
    "\n",
    "0.024168   0.002857  0.007754\n",
    "\n",
    "0.024066   0.002823  0.007988\n",
    "\n",
    "0.024578   0.002721  0.008021\n",
    "\n",
    "##UCB\n",
    "\n",
    "\n",
    "0.036000   0.005250  0.045000\n",
    "\n",
    "0.036409   0.005197  0.043429\n",
    "\n",
    "0.040000   0.005000  0.046125\n",
    "\n",
    "0.039944   0.005081  0.045729\n",
    "\n",
    "0.042750   0.004400  0.040500\n",
    "\n",
    "0.045000   0.004533  0.033000\n",
    "\n",
    "0.038695   0.004803  0.030055\n",
    "\n",
    "0.038779   0.004799  0.029957\n",
    "\n",
    "0.044175   0.004547  0.038475\n",
    "\n",
    "0.043014   0.004688  0.036750\n",
    "\n",
    "0.044696   0.004749  0.034443\n"
   ]
  },
  {
   "cell_type": "code",
   "execution_count": 4,
   "metadata": {},
   "outputs": [
    {
     "data": {
      "text/plain": [
       "(25, 3)"
      ]
     },
     "execution_count": 4,
     "metadata": {},
     "output_type": "execute_result"
    }
   ],
   "source": [
    "A.shape"
   ]
  },
  {
   "cell_type": "code",
   "execution_count": 5,
   "metadata": {},
   "outputs": [
    {
     "data": {
      "text/plain": [
       "array([[0.02940123, 0.01138308, 0.02935103],\n",
       "       [0.02958333, 0.01130556, 0.02947778],\n",
       "       [0.03      , 0.011     , 0.0294    ],\n",
       "       [0.02385223, 0.00952549, 0.02614507],\n",
       "       [0.04478056, 0.01204282, 0.03185417],\n",
       "       [0.04522626, 0.01195731, 0.03151456],\n",
       "       [0.0455    , 0.01166667, 0.03135   ],\n",
       "       [0.03      , 0.011957  , 0.031515  ],\n",
       "       [0.02357202, 0.01064115, 0.03483618],\n",
       "       [0.02769547, 0.01023282, 0.03054143],\n",
       "       [0.02833333, 0.01003704, 0.02856591],\n",
       "       [0.02697687, 0.01303429, 0.0385675 ],\n",
       "       [0.02802451, 0.01277361, 0.03221521],\n",
       "       [0.02966873, 0.01164397, 0.03211438],\n",
       "       [0.037398  , 0.010652  , 0.036342  ],\n",
       "       [0.032604  , 0.012396  , 0.030682  ],\n",
       "       [0.034905  , 0.01154   , 0.034525  ],\n",
       "       [0.030611  , 0.013039  , 0.031093  ],\n",
       "       [0.034905  , 0.01154   , 0.04      ],\n",
       "       [0.033742  , 0.011732  , 0.036     ],\n",
       "       [0.042     , 0.012117  , 0.036     ],\n",
       "       [0.041481  , 0.012651  , 0.032593  ],\n",
       "       [0.04392   , 0.012874  , 0.028176  ],\n",
       "       [0.044938  , 0.0123    , 0.032412  ],\n",
       "       [0.042518  , 0.012335  , 0.033408  ]])"
      ]
     },
     "execution_count": 5,
     "metadata": {},
     "output_type": "execute_result"
    }
   ],
   "source": [
    "A"
   ]
  },
  {
   "cell_type": "code",
   "execution_count": 5,
   "metadata": {},
   "outputs": [
    {
     "data": {
      "text/plain": [
       "(17, 3)"
      ]
     },
     "execution_count": 5,
     "metadata": {},
     "output_type": "execute_result"
    }
   ],
   "source": [
    "A.shape"
   ]
  },
  {
   "cell_type": "code",
   "execution_count": null,
   "metadata": {},
   "outputs": [],
   "source": [
    "## With the first 35 days data \n",
    "# Optimal parameters\n",
    "#[0.0293013 , 0.01191042, 0.03175983]\n",
    "\n",
    "\n",
    "## With the second 35 days data \n",
    "# Optimal parameters\n",
    "#0.069353   0.000625  0.003858\n",
    "\n",
    "\n",
    "\n",
    "## With the third 35 days data \n",
    "# Optimal parameters\n",
    "#0.067277   0.000611  0.004702"
   ]
  },
  {
   "cell_type": "code",
   "execution_count": null,
   "metadata": {},
   "outputs": [],
   "source": [
    "#UIUC\n",
    "#0.025056   0.003858  0.008534\n",
    "\n",
    "##Berkeley\n",
    "#0.036440   0.007100  0.035057\n",
    "\n",
    "##TexasAM\n",
    "# 0.537179  , 0.053190 , 0.047984\n",
    "\n",
    "##umich\n",
    "#0.448019   0.012496  0.107455"
   ]
  }
 ],
 "metadata": {
  "kernelspec": {
   "display_name": "Python 3",
   "language": "python",
   "name": "python3"
  }
 },
 "nbformat": 4,
 "nbformat_minor": 2
}
